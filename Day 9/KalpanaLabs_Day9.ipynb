{
  "nbformat": 4,
  "nbformat_minor": 0,
  "metadata": {
    "colab": {
      "name": "KalpanaLabs_Day9.ipynb",
      "provenance": [],
      "collapsed_sections": [],
      "authorship_tag": "ABX9TyOgcYbvezKQe7hfm/q7KSTe",
      "include_colab_link": true
    },
    "kernelspec": {
      "name": "python3",
      "display_name": "Python 3"
    }
  },
  "cells": [
    {
      "cell_type": "markdown",
      "metadata": {
        "id": "view-in-github",
        "colab_type": "text"
      },
      "source": [
        "<a href=\"https://colab.research.google.com/github/ekdnam/KalpanaLabs/blob/master/Day%209/KalpanaLabs_Day9.ipynb\" target=\"_parent\"><img src=\"https://colab.research.google.com/assets/colab-badge.svg\" alt=\"Open In Colab\"/></a>"
      ]
    },
    {
      "cell_type": "markdown",
      "metadata": {
        "id": "x7mSbDwr_yC6"
      },
      "source": [
        "# While loops\n",
        "\n"
      ]
    },
    {
      "cell_type": "code",
      "metadata": {
        "id": "T9FPJfLT-dP9",
        "outputId": "2efd3613-d242-4a89-8331-1bdc9bfa9843",
        "colab": {
          "base_uri": "https://localhost:8080/",
          "height": 421
        }
      },
      "source": [
        "from IPython.display import HTML\n",
        "HTML('<img src=\"https://www.ultraupdates.com/wp-content/uploads/2015/03/looping-gif-2.gif\"\">')"
      ],
      "execution_count": null,
      "outputs": [
        {
          "output_type": "execute_result",
          "data": {
            "text/html": [
              "<img src=\"https://www.ultraupdates.com/wp-content/uploads/2015/03/looping-gif-2.gif\"\">"
            ],
            "text/plain": [
              "<IPython.core.display.HTML object>"
            ]
          },
          "metadata": {
            "tags": []
          },
          "execution_count": 1
        }
      ]
    },
    {
      "cell_type": "markdown",
      "metadata": {
        "id": "gkQ9JI6-AD_D"
      },
      "source": [
        "## Revise\n",
        "\n",
        "- Boolean values\n",
        "- if else statements"
      ]
    },
    {
      "cell_type": "markdown",
      "metadata": {
        "id": "uVMmFGG_AO5l"
      },
      "source": [
        "## What are loops?\n",
        "\n",
        "They are statements that allow us to repeat certain lines of code for a certain amount of time.\n",
        "\n",
        "ex: shift + enter in jupyter notebook"
      ]
    },
    {
      "cell_type": "markdown",
      "metadata": {
        "id": "a7mBI_jDCXKa"
      },
      "source": [
        "### Okay dada! But till when are these statements executed?\n",
        "\n",
        "We can determine that beforehand, or give a certain exit condition."
      ]
    },
    {
      "cell_type": "markdown",
      "metadata": {
        "id": "FiWO4SbEDbqK"
      },
      "source": [
        "## Examples\n",
        "\n",
        "- Brushing teeth\n",
        "- Watering plants\n",
        "- Batsmen in a cricket match\n",
        "- Clash Royale\n",
        "- Mobile applications"
      ]
    },
    {
      "cell_type": "markdown",
      "metadata": {
        "id": "Y4NJnE2sCu0c"
      },
      "source": [
        "## Syntax\n",
        "\n",
        "```\n",
        "while (condition):\n",
        "  statements\n",
        "```\n",
        "\n",
        "What does this mean?\n",
        "\n",
        "```\n",
        "while the condition is true:\n",
        "  execute these statements\n",
        "```"
      ]
    },
    {
      "cell_type": "markdown",
      "metadata": {
        "id": "iEUCRTJFFcBp"
      },
      "source": [
        "## Coded examples"
      ]
    },
    {
      "cell_type": "markdown",
      "metadata": {
        "id": "rU7kOfxBDwrV"
      },
      "source": [
        "### Sample code for example I: Brushing teeth"
      ]
    },
    {
      "cell_type": "code",
      "metadata": {
        "id": "AxEYjRyc_90f",
        "outputId": "15a0a518-e995-492b-c670-b1e2dca708dd",
        "colab": {
          "base_uri": "https://localhost:8080/",
          "height": 104
        }
      },
      "source": [
        "mouthIsClean = False\n",
        "\n",
        "def brush():\n",
        "  print(\"I am brushing my teeth!\")\n",
        "\n",
        "while not mouthIsClean:\n",
        "  brush()\n",
        "  check = str(input(\"Is your mouth clean? (Y/N)\"))\n",
        "  if (check == \"Y\" or check == \"y\"):\n",
        "    mouthIsClean = True\n",
        "    print(\"Great!\")\n"
      ],
      "execution_count": null,
      "outputs": [
        {
          "output_type": "stream",
          "text": [
            "I am brushing my teeth!\n",
            "Is your mouth clean? (Y/N)n\n",
            "I am brushing my teeth!\n",
            "Is your mouth clean? (Y/N)y\n",
            "Great!\n"
          ],
          "name": "stdout"
        }
      ]
    },
    {
      "cell_type": "code",
      "metadata": {
        "id": "WmQ19LQ6EV6O"
      },
      "source": [
        ""
      ],
      "execution_count": null,
      "outputs": []
    }
  ]
}